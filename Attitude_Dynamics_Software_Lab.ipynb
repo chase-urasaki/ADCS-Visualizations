{
  "cells": [
    {
      "cell_type": "markdown",
      "metadata": {
        "id": "view-in-github",
        "colab_type": "text"
      },
      "source": [
        "<a href=\"https://colab.research.google.com/github/chase-urasaki/ADCS-Visualizations/blob/Function-Wrapping/Attitude_Dynamics_Software_Lab.ipynb\" target=\"_parent\"><img src=\"https://colab.research.google.com/assets/colab-badge.svg\" alt=\"Open In Colab\"/></a>"
      ]
    },
    {
      "cell_type": "code",
      "execution_count": null,
      "metadata": {
        "id": "vXJDLjiZXqXj"
      },
      "outputs": [],
      "source": [
        "import math\n",
        "import numpy as np\n",
        "from matplotlib import pyplot as plt\n",
        "import matplotlib.animation as animation \n",
        "import mpl_toolkits.mplot3d.axes3d as p3\n",
        "from mpl_toolkits.mplot3d import axes3d\n",
        "from scipy.integrate import odeint\n",
        "import ipywidgets as widgets\n",
        "from IPython.display import HTML"
      ]
    },
    {
      "cell_type": "markdown",
      "source": [
        "# Define spacecraft mass, inertia, external torque and inital state"
      ],
      "metadata": {
        "id": "u8ylG0051zZt"
      }
    },
    {
      "cell_type": "markdown",
      "source": [
        "Mass and Inertia are for a 1U cubesat - feel free to change, but these values won't be wrapped in the function. You may use the sliders OR run the functions with values inputed for arguements."
      ],
      "metadata": {
        "id": "SMxUNLgBtgCC"
      }
    },
    {
      "cell_type": "code",
      "source": [
        "m = 1.33 # kg\n",
        "l = 0.1 # m\n",
        "I_xx = 1/12*m*(2*l**2) # kg m^2\n",
        "I_yy = 1/12*m*(2*l**2) # kg m^2\n",
        "I_zz = 1/12*m*(2*l**2) # kg m^2"
      ],
      "metadata": {
        "id": "-iYIjeLrtaD3"
      },
      "execution_count": null,
      "outputs": []
    },
    {
      "cell_type": "markdown",
      "metadata": {
        "id": "J8GgnvQ3XqXr"
      },
      "source": [
        "## Define the initial state using the rotation matrix as a part of the state"
      ]
    },
    {
      "cell_type": "code",
      "source": [
        "def run_dynamics_with_no_ext_torque_for(phi, theta, psi, omega_phi, omega_theta, omega_psi):\n",
        "  \"\"\" input phi, theta, psi, omega_phi (roll velocity), omega_theta (pitch velocity), omega_psi (yaw velocity) in degrees\"\"\"\n",
        "  #define inertia\n",
        "\n",
        "  I = np.array([[I_xx, 0, 0],[0, I_yy, 0],[0, 0 ,I_zz]])\n",
        "\n",
        "  # define external torque\n",
        "  tau = np.array([[0],[0], [0]])\n",
        "\n",
        "  # define initial state\n",
        "  # euler angles\n",
        "  phi = phi * np.pi /180     \n",
        "  theta = theta * np.pi/180       \n",
        "  psi = psi * np.pi/180      \n",
        "  # rotation matrix \n",
        "  A_x = np.array([[1, 0, 0],\n",
        "                [0, np.cos(phi), -np.sin(phi)], \n",
        "                [0, np.sin(phi), np.cos(phi)]])\n",
        "  A_y = np.array([[np.cos(theta), 0, np.sin(theta)],\n",
        "                [0, 1, 0], \n",
        "                [-np.sin(theta), 0, np.cos(theta)]])\n",
        "  A_z = np.array([[np.cos(psi), -np.sin(psi), 0],\n",
        "                [np.sin(psi), np.cos(psi), 0], \n",
        "                [0, 0, 1]])\n",
        "  A = A_z @ A_y @ A_x\n",
        "  # euler axis angle\n",
        "  theta_a = np.arccos((A[0,0]+A[1,1]+A[2,2]-1)/2)\n",
        "  e_1 = (A[2,1]-A[1,2])/(2*np.sin(theta_a))\n",
        "  e_2 = (A[0,2]-A[2,0])/(2*np.sin(theta_a))\n",
        "  e_3 = (A[1,0]-A[0,1])/(2*np.sin(theta_a))\n",
        "  # quaternion\n",
        "  q_x0 = e_1*np.sin(theta_a/2)\n",
        "  q_y0 = e_2*np.sin(theta_a/2)\n",
        "  q_z0 = e_3*np.sin(theta_a/2)\n",
        "  q_w0 = np.cos(theta_a/2)\n",
        "  q_0 = np.array([q_x0, q_y0, q_z0, q_w0])\n",
        "\n",
        "  omega_x0 = omega_phi* np.pi/180 \n",
        "  omega_y0 = omega_theta * np.pi/180\n",
        "  omega_z0 = omega_psi * np.pi/180\n",
        "  omega_0 = np.array([omega_x0,omega_y0,omega_z0])\n",
        "\n",
        "  # initiate state with rotation matrix\n",
        "  r_0 = np.concatenate((A[0,:], A[1,:], A[2,:]))\n",
        "  s_0 = np.concatenate((r_0,omega_0), axis=0)\n",
        "\n",
        "  # time points\n",
        "  t = np.linspace(0, 100, 1001)\n",
        "\n",
        "  # integrate\n",
        "  y = odeint(R_model, s_0, t, args=(I,tau))\n",
        "  R_t = y[:,0:9]\n",
        "  w_t = y[:,9::]\n",
        "\n",
        "  return t, R_t, w_t"
      ],
      "metadata": {
        "id": "xf8_hOcWtq-3"
      },
      "execution_count": null,
      "outputs": []
    },
    {
      "cell_type": "markdown",
      "metadata": {
        "id": "GDRrhhiOXqXs"
      },
      "source": [
        "## Encode the ordinary differential equation that defines the state derivative with respect to a quaternion state - derived from Euler's rigid body dynamics equation"
      ]
    },
    {
      "cell_type": "code",
      "source": [
        "def R_model(s,t,I,tau):\n",
        "    # break out state\n",
        "    r = s[0:9]\n",
        "    R = np.array([r[0:3],r[3:6],r[6:9]])\n",
        "    w1 = s[9]\n",
        "    w2 = s[10]\n",
        "    w3 = s[11]\n",
        "    w = np.array([[w1],[w2],[w3]])\n",
        "    \n",
        "    # define derivative\n",
        "    wcross = np.array([[0,w3,-w2],[-w3,0,w1],[w2,-w1,0]])\n",
        "    \n",
        "    Rdot = R@wcross\n",
        "    rdot = np.concatenate((Rdot[0,:], Rdot[1,:], Rdot[2,:]))\n",
        "    \n",
        "    wdot = -np.linalg.inv(I)@(wcross@I@w-tau)\n",
        "    \n",
        "    # return state derivative\n",
        "    sdot = np.concatenate((rdot,wdot[:,0]), axis=0)\n",
        "    \n",
        "    return sdot"
      ],
      "metadata": {
        "id": "EXTXQxLkttx_"
      },
      "execution_count": null,
      "outputs": []
    },
    {
      "cell_type": "markdown",
      "metadata": {
        "id": "34Snr3VEXqXs"
      },
      "source": [
        "## Run the dynamics model with no external torque and plot the resulting attitude dynamics of the spacecraft"
      ]
    },
    {
      "cell_type": "code",
      "source": [
        "def plot_dynamics_with_no_ext_torque(phi, theta, psi, omega_phi, omega_theta, omega_psi):\n",
        "  t, R_t, w_t = run_dynamics_with_no_ext_torque_for(phi, theta, psi, omega_phi, omega_theta, omega_psi)\n",
        "  fig = plt.figure(figsize=(20,20))\n",
        "  fig.tight_layout(pad = 5)\n",
        "  plt.subplot(3,4,1)\n",
        "  plt.plot(t,R_t[:,0])\n",
        "  plt.ylabel(r'R$_{11}$')\n",
        "  plt.ylim(-1.1,1.1)\n",
        "  plt.subplot(342)\n",
        "  plt.plot(t,R_t[:,1])\n",
        "  plt.ylabel(r'R$_{12}$')\n",
        "  plt.ylim(-1.1,1.1)\n",
        "  plt.subplot(343)\n",
        "  plt.plot(t,R_t[:,2])\n",
        "  plt.ylabel(r'R$_{13}$')\n",
        "  plt.ylim(-1.1,1.1)\n",
        "  plt.subplot(344)\n",
        "  plt.plot(t,w_t[:,0])\n",
        "  plt.ylabel(r'w$_1$')\n",
        "  plt.subplot(345)\n",
        "  plt.plot(t,R_t[:,3])\n",
        "  plt.ylabel(r'R$_{21}$')\n",
        "  plt.ylim(-1.1,1.1)\n",
        "  plt.subplot(346)\n",
        "  plt.plot(t,R_t[:,4])\n",
        "  plt.ylabel(r'R$_{22}$')\n",
        "  plt.ylim(-1.1,1.1)\n",
        "  plt.subplot(347)\n",
        "  plt.plot(t,R_t[:,5])\n",
        "  plt.ylabel(r'R$_{23}$')\n",
        "  plt.subplot(348)\n",
        "  plt.plot(t,w_t[:,1])\n",
        "  plt.ylabel(r'w$_2$')\n",
        "  plt.subplot(349)\n",
        "  plt.plot(t,R_t[:,6])\n",
        "  plt.ylabel(r'R$_{31}$')\n",
        "  plt.ylim(-1.1,1.1)\n",
        "  plt.subplot(3,4,10)\n",
        "  plt.plot(t,R_t[:,7])\n",
        "  plt.ylabel(r'R$_{32}$')\n",
        "  plt.ylim(-1.1,1.1)\n",
        "  plt.subplot(3,4,11)\n",
        "  plt.plot(t,R_t[:,8])\n",
        "  plt.ylabel(r'R$_{33}$')\n",
        "  plt.subplot(3,4,12)\n",
        "  plt.plot(t,w_t[:,2])\n",
        "  plt.ylabel(r'w$_3$')\n",
        "  plt.show()\n",
        "  plt.close()"
      ],
      "metadata": {
        "id": "uR37jXHQtvbR"
      },
      "execution_count": null,
      "outputs": []
    },
    {
      "cell_type": "code",
      "source": [
        "phi_slider = widgets.IntSlider(value = 0.0, min = -360, max = 360, step = 1, description=r'phi (roll)')\n",
        "theta_slider = widgets.IntSlider(value = 0.0, min = -180, max = 180, step = 1, description='theta (pitch)')\n",
        "psi_slider = widgets.IntSlider(value = 0.0, min = -360, max = 360, step = 1, description='psi (yaw)')\n",
        "omega_phi_slider = widgets.IntSlider(value = 0.0, min = -360, max = 360, step = 1, description=r'omega phi (roll velocity)')\n",
        "omega_theta_slider = widgets.IntSlider(value = 0.0, min = -180, max = 180, step = 1, description='omega theta (pitch velocity)')\n",
        "omega_psi_slider = widgets.IntSlider(value = 0.0, min = -360, max = 360, step = 1, description='omega psi (yaw velocity)')"
      ],
      "metadata": {
        "id": "KyQXDMs0tw8o"
      },
      "execution_count": null,
      "outputs": []
    },
    {
      "cell_type": "code",
      "source": [
        "widgets.interact(plot_dynamics_with_no_ext_torque, phi = phi_slider, theta = theta_slider, psi = psi_slider, omega_phi = omega_phi_slider, omega_theta = omega_theta_slider, omega_psi = omega_psi_slider)"
      ],
      "metadata": {
        "id": "QwJ0P-oWtymZ"
      },
      "execution_count": null,
      "outputs": []
    },
    {
      "cell_type": "markdown",
      "source": [
        "Give the program a few moments to update all the plots before running the animator. "
      ],
      "metadata": {
        "id": "iMFkz_GuteGL"
      }
    },
    {
      "cell_type": "code",
      "source": [
        "t, R_t, _ = run_dynamics_with_no_ext_torque_for(phi_slider.value, theta_slider.value, psi_slider.value, omega_phi_slider.value, omega_theta_slider.value, omega_psi_slider.value)\n",
        "\n",
        "fig = plt.figure()\n",
        "ax = fig.add_subplot(projection='3d')\n",
        "fig.suptitle('On-Diagonal Inertia')\n",
        "ax.quiver(0, 0, 0, 1, 0, 0, length=1.5, linestyle = '--', normalize=True, color = '#BDBDBD') #red\n",
        "ax.text(1.5, 0, 0, r'x', color = 'k')\n",
        "ax.quiver(0, 0, 0, 0, 1, 0, length=1.5, linestyle = '--', normalize=True, color = '#BDBDBD') #orange\n",
        "ax.text(0, 1.5, 0, r'y', color = 'k')\n",
        "ax.quiver(0, 0, 0, 0, 0, 1, length=1.5, linestyle = '--', normalize=True, color = '#BDBDBD') #blue \n",
        "ax.text(0, 0, 1.5, r'z', color = 'k')\n",
        "ax.set(xlim=(-1.5, 1.5), \n",
        "          ylim=(-1.1,1.5), \n",
        "          zlim=(-1.5,1.5))\n",
        "ax.set_xlabel('x')\n",
        "ax.set_ylabel('y')\n",
        "ax.set_zlabel('z')\n",
        "\n",
        "x_b, = ax.plot([0,R_t[0,0]], [0,R_t[0,3]], [0,R_t[0,6]], color = 'red', linewidth = 10)\n",
        "y_b, = ax.plot([0,R_t[0,1]], [0,R_t[0,4]], [0,R_t[0,7]], color = 'orange', linewidth = 10)\n",
        "z_b, = ax.plot([0,R_t[0,2]], [0,R_t[0,5]], [0,R_t[0,8]], color = 'blue', linewidth = 10)\n",
        "\n",
        "# animation function. This is called sequentially\n",
        "def drawframe(n): \n",
        "    x_b.set_data([0,R_t[n,0]], [0,R_t[n,1]])\n",
        "    x_b.set_3d_properties([0,R_t[n,2]], 'z')\n",
        "    y_b.set_data([0,R_t[n,3]], [0,R_t[n,4]])\n",
        "    y_b.set_3d_properties([0,R_t[n,5]], 'z')\n",
        "    z_b.set_data([0,R_t[n,6]], [0,R_t[n,7]])\n",
        "    z_b.set_3d_properties([0,R_t[n,8]], 'z')\n",
        "    return (x_b, y_b, z_b)\n",
        "\n",
        "anim = animation.FuncAnimation(fig, drawframe, frames=len(t), interval=20, blit=True)\n",
        "\n",
        "HTML(anim.to_html5_video())"
      ],
      "metadata": {
        "id": "l-M3RIhGt12H"
      },
      "execution_count": null,
      "outputs": []
    },
    {
      "cell_type": "markdown",
      "source": [
        "# Investigate Motion using quaternion Kinematics"
      ],
      "metadata": {
        "id": "ZXGHwrfQuFMG"
      }
    },
    {
      "cell_type": "code",
      "source": [
        "def run_dynamics_with_no_ext_torque_in_quat_for(phi, theta, psi, omega_phi, omega_theta, omega_psi):\n",
        "  \"\"\" input phi, theta, psi, omega_phi (roll velocity), omega_theta (pitch velocity), omega_psi (yaw velocity) in degrees\"\"\"\n",
        "  #define moment of inertia\n",
        "  I = np.array([[I_xx, 0, 0],[0, I_yy, 0],[0, 0 ,I_zz]])\n",
        "\n",
        "  # define external torque\n",
        "  tau = np.array([[0],[0], [0]])\n",
        "\n",
        "  # define initial state\n",
        "  # euler angles\n",
        "  phi = phi * np.pi /180     # \"roll\" FEEL FREE TO CHANGE THIS VALUE\n",
        "  theta = theta * np.pi/180       # \"pitch\" FEEL FREE TO CHANGE THIS VALUE\n",
        "  psi = psi * np.pi/180      # \"yaw\" FEEL FREE TO CHANGE THIS VALUE\n",
        "  # rotation matrix \n",
        "  A_x = np.array([[1, 0, 0],\n",
        "                [0, np.cos(phi), -np.sin(phi)], \n",
        "                [0, np.sin(phi), np.cos(phi)]])\n",
        "  A_y = np.array([[np.cos(theta), 0, np.sin(theta)],\n",
        "                [0, 1, 0], \n",
        "                [-np.sin(theta), 0, np.cos(theta)]])\n",
        "  A_z = np.array([[np.cos(psi), -np.sin(psi), 0],\n",
        "                [np.sin(psi), np.cos(psi), 0], \n",
        "                [0, 0, 1]])\n",
        "  A = A_z @ A_y @ A_x\n",
        "  # euler axis angle\n",
        "  theta_a = np.arccos((A[0,0]+A[1,1]+A[2,2]-1)/2)\n",
        "  e_1 = (A[2,1]-A[1,2])/(2*np.sin(theta_a))\n",
        "  e_2 = (A[0,2]-A[2,0])/(2*np.sin(theta_a))\n",
        "  e_3 = (A[1,0]-A[0,1])/(2*np.sin(theta_a))\n",
        "  # quaternion\n",
        "  q_x0 = e_1*np.sin(theta_a/2)\n",
        "  q_y0 = e_2*np.sin(theta_a/2)\n",
        "  q_z0 = e_3*np.sin(theta_a/2)\n",
        "  q_w0 = np.cos(theta_a/2)\n",
        "  q_0 = np.array([q_x0, q_y0, q_z0, q_w0])\n",
        "\n",
        "  omega_x0 = omega_phi* np.pi/180 # roll velocity\n",
        "  omega_y0 = omega_theta * np.pi/180# pitch velocity\n",
        "  omega_z0 = omega_psi * np.pi/180# yaw velocity\n",
        "  omega_0 = np.array([omega_x0,omega_y0,omega_z0])\n",
        "\n",
        "  # initiate state with rotation matrix\n",
        "  r_0 = np.concatenate((A[0,:], A[1,:], A[2,:]))\n",
        "  s_0 = np.concatenate((q_0,omega_0), axis=0)\n",
        "\n",
        "# time points\n",
        "  t = np.linspace(0, 100, 1001)\n",
        "\n",
        "  # integrate\n",
        "  y = odeint(q_model, s_0, t, args=(I,tau))\n",
        "\n",
        "  # time points\n",
        "  R_t = y[:,0:9]\n",
        "  w_t = y[:,9::]\n",
        "\n",
        "  q_t = y[:,0:4]\n",
        "\n",
        "  w_t = y[:,4:7]\n",
        "\n",
        "  return t, q_t, w_t"
      ],
      "metadata": {
        "id": "kVLXK3OquCk-"
      },
      "execution_count": null,
      "outputs": []
    },
    {
      "cell_type": "markdown",
      "metadata": {
        "id": "NpB-nlgwXqXv"
      },
      "source": [
        "## Code the ordinary differential equation that defines the state derivative with respect to a quaternion state - derived from Euler's rigid body dynamics equation"
      ]
    },
    {
      "cell_type": "code",
      "source": [
        "# ode for kinematics/dynamics using quaternion state\n",
        "def q_model(s,t,I,tau):\n",
        "    # break out state\n",
        "    q1 = s[0]\n",
        "    q2 = s[1]\n",
        "    q3 = s[2]\n",
        "    q4 = s[3]\n",
        "    w1 = s[4]\n",
        "    w2 = s[5]\n",
        "    w3 = s[6]\n",
        "    w = np.array([[w1],[w2],[w3]])\n",
        "    \n",
        "    # define derivative\n",
        "    qmat = np.array([[q4, -q3, q2],\n",
        "                     [q3, q4, -q1],\n",
        "                     [-q2, q1, q4],\n",
        "                     [-q1, -q2, -q3]])\n",
        "    qdot = 1/2*qmat@w\n",
        "    \n",
        "    wcross = np.array([[0,-w3,w2],\n",
        "                       [w3,0,-w1],\n",
        "                       [-w2,w1,0]])\n",
        "    wdot = -np.linalg.inv(I)@(wcross@(I@w)-tau)\n",
        "\n",
        "    # return state derivative\n",
        "    sdot = np.concatenate((qdot[:,0],wdot[:,0]), axis=0)\n",
        "    \n",
        "    return sdot"
      ],
      "metadata": {
        "id": "0xHa_ypvuIcA"
      },
      "execution_count": null,
      "outputs": []
    },
    {
      "cell_type": "markdown",
      "metadata": {
        "id": "YdQsD-x5XqXw"
      },
      "source": [
        "## Run the dynamics model with no external torque"
      ]
    },
    {
      "cell_type": "code",
      "source": [
        "def plot_dynamics_no_ext_torque_in_quat(phi, theta, psi, omega_phi, omega_theta, omega_psi):\n",
        "  t, q_t, w_t = run_dynamics_with_no_ext_torque_in_quat_for(phi, theta, psi, omega_phi, omega_theta, omega_psi)\n",
        "  fig = plt.figure(figsize=(15,10))\n",
        "  fig.tight_layout(pad = 10)\n",
        "  plt.subplot(332)\n",
        "  plt.plot(t,q_t[:,0])\n",
        "  plt.ylabel(r'q$_1$')\n",
        "  plt.title(r'axis component q$_1$')\n",
        "  plt.ylim(-1.1,1.1)\n",
        "  plt.subplot(335)\n",
        "  plt.plot(t,q_t[:,1])\n",
        "  plt.ylabel(r'q$_2$')\n",
        "  plt.title(r'axis component q$_2$')\n",
        "  plt.ylim(-1.1,1.1)\n",
        "  plt.subplot(338)\n",
        "  plt.plot(t,q_t[:,2])\n",
        "  plt.ylabel(r'q$_3$')\n",
        "  plt.title(r'axis component q$_3$')\n",
        "  plt.ylim(-1.1,1.1)\n",
        "  plt.subplot(334)\n",
        "  plt.plot(t,q_t[:,3])\n",
        "  plt.ylabel(r'q$_w$')\n",
        "  plt.title(r'angle component q$_w$')\n",
        "  plt.subplot(333)\n",
        "  plt.plot(t,w_t[:,0])\n",
        "  plt.ylabel(r'w$_1$')\n",
        "  plt.title(r'axis component w$_1$')\n",
        "  plt.subplot(336)\n",
        "  plt.plot(t,w_t[:,1])\n",
        "  plt.ylabel(r'w$_2$')\n",
        "  plt.title(r'axis component w$_2$')\n",
        "  plt.subplot(339)\n",
        "  plt.plot(t,w_t[:,2])\n",
        "  plt.ylabel(r'w$_3$')\n",
        "  plt.title(r'axis component w$_3$')\n",
        "  plt.show()\n",
        "  plt.close()"
      ],
      "metadata": {
        "id": "mgkAU2AmuLmy"
      },
      "execution_count": null,
      "outputs": []
    },
    {
      "cell_type": "code",
      "source": [
        "widgets.interact(plot_dynamics_no_ext_torque_in_quat, phi = phi_slider, theta = theta_slider, psi = psi_slider, omega_phi = omega_phi_slider, omega_theta = omega_theta_slider, omega_psi = omega_psi_slider)"
      ],
      "metadata": {
        "id": "IIAI_EeXuNNz"
      },
      "execution_count": null,
      "outputs": []
    },
    {
      "cell_type": "markdown",
      "source": [
        "# Off - Diagonal Inertia Products "
      ],
      "metadata": {
        "id": "gNxcJ9VsuOhw"
      }
    },
    {
      "cell_type": "markdown",
      "source": [
        "What happens when we have a I Matrix that is not nice and diagonalized?"
      ],
      "metadata": {
        "id": "V1FGI1N3wH35"
      }
    },
    {
      "cell_type": "code",
      "source": [
        "def run_dynamics_for_off_diagonal_I(phi, theta, psi, omega_phi, omega_theta, omega_psi):\n",
        "  \"\"\" input phi, theta, psi, omega_phi (roll velocity), omega_theta (pitch velocity), omega_psi (yaw velocity) in degrees\"\"\"\n",
        "  # define external torque\n",
        "  tau = np.array([[0],[0], [0]])\n",
        "\n",
        "  I_off_diag = np.array([[I_xx, 0.5*I_xx, 0],[0.5*I_xx, I_yy, 0],[0, 0 ,I_zz]])\n",
        "\n",
        "  # define initial state\n",
        "  # euler angles\n",
        "  phi = phi * np.pi /180     # \"roll\" FEEL FREE TO CHANGE THIS VALUE\n",
        "  theta = theta * np.pi/180       # \"pitch\" FEEL FREE TO CHANGE THIS VALUE\n",
        "  psi = psi * np.pi/180      # \"yaw\" FEEL FREE TO CHANGE THIS VALUE\n",
        "  # rotation matrix \n",
        "  A_x = np.array([[1, 0, 0],\n",
        "                [0, np.cos(phi), -np.sin(phi)], \n",
        "                [0, np.sin(phi), np.cos(phi)]])\n",
        "  A_y = np.array([[np.cos(theta), 0, np.sin(theta)],\n",
        "                [0, 1, 0], \n",
        "                [-np.sin(theta), 0, np.cos(theta)]])\n",
        "  A_z = np.array([[np.cos(psi), -np.sin(psi), 0],\n",
        "                [np.sin(psi), np.cos(psi), 0], \n",
        "                [0, 0, 1]])\n",
        "  A = A_z @ A_y @ A_x\n",
        "  # euler axis angle\n",
        "  theta_a = np.arccos((A[0,0]+A[1,1]+A[2,2]-1)/2)\n",
        "  e_1 = (A[2,1]-A[1,2])/(2*np.sin(theta_a))\n",
        "  e_2 = (A[0,2]-A[2,0])/(2*np.sin(theta_a))\n",
        "  e_3 = (A[1,0]-A[0,1])/(2*np.sin(theta_a))\n",
        "  # quaternion\n",
        "  q_x0 = e_1*np.sin(theta_a/2)\n",
        "  q_y0 = e_2*np.sin(theta_a/2)\n",
        "  q_z0 = e_3*np.sin(theta_a/2)\n",
        "  q_w0 = np.cos(theta_a/2)\n",
        "  q_0 = np.array([q_x0, q_y0, q_z0, q_w0])\n",
        "\n",
        "  omega_x0 = omega_phi* np.pi/180     # roll velocity\n",
        "  omega_y0 = omega_theta * np.pi/180  # pitch velocity\n",
        "  omega_z0 = omega_psi * np.pi/180    # yaw velocity\n",
        "  omega_0 = np.array([omega_x0,omega_y0,omega_z0])\n",
        "\n",
        "  # initiate state with rotation matrix\n",
        "  r_0 = np.concatenate((A[0,:], A[1,:], A[2,:]))\n",
        "  s_0 = np.concatenate((r_0,omega_0), axis=0)\n",
        "\n",
        "  # time points\n",
        "  t = np.linspace(0, 100, 1001)\n",
        "\n",
        "  # integrate\n",
        "  y = odeint(R_model, s_0, t, args=(I_off_diag,tau))\n",
        "  R_t_offdiag = y[:,0:9]\n",
        "  w_t_offdiag = y[:,9::]\n",
        "\n",
        "  return t, R_t_offdiag, w_t_offdiag"
      ],
      "metadata": {
        "id": "QyUFYajMuQd5"
      },
      "execution_count": null,
      "outputs": []
    },
    {
      "cell_type": "code",
      "source": [
        "t_offdiag, R_t_offdiag, w_t_offdiag = run_dynamics_for_off_diagonal_I(phi_slider.value, theta_slider.value, psi_slider.value, omega_phi_slider.value, omega_theta_slider.value, \n",
        "                                                                      omega_psi_slider.value)"
      ],
      "metadata": {
        "id": "DVKz0H58uTdJ"
      },
      "execution_count": null,
      "outputs": []
    },
    {
      "cell_type": "markdown",
      "source": [
        "Animate the rotation and compare it to diagonalized inertia matrix. See the difference?"
      ],
      "metadata": {
        "id": "TZZHPgKYuXMI"
      }
    },
    {
      "cell_type": "code",
      "source": [
        "fig = plt.figure()\n",
        "fig.suptitle('Off-Diagonal Inertia')\n",
        "ax = fig.add_subplot(projection='3d')\n",
        "# object initialization\n",
        "i = 0\n",
        "ax.quiver(0, 0, 0, 1, 0, 0, length=1.5, linestyle = '--', normalize=True, color = '#BDBDBD') #red\n",
        "ax.text(1.5, 0, 0, r'x', color = 'k')\n",
        "ax.quiver(0, 0, 0, 0, 1, 0, length=1.5, linestyle = '--', normalize=True, color = '#BDBDBD') #orange\n",
        "ax.text(0, 1.5, 0, r'y', color = 'k')\n",
        "ax.quiver(0, 0, 0, 0, 0, 1, length=1.5, linestyle = '--', normalize=True, color = '#BDBDBD') #blue \n",
        "ax.text(0, 0, 1.5, r'z', color = 'k')\n",
        "ax.set(xlim=(-1.5, 1.5), \n",
        "          ylim=(-1.1,1.5), \n",
        "          zlim=(-1.5,1.5))\n",
        "ax.set_xlabel('x')\n",
        "ax.set_ylabel('y')\n",
        "ax.set_zlabel('z')\n",
        "\n",
        "x_b, = ax.plot([0,R_t_offdiag[0,0]], [0,R_t_offdiag[0,3]], [0,R_t_offdiag[0,6]], color = 'red', linewidth = 10)\n",
        "y_b, = ax.plot([0,R_t_offdiag[0,1]], [0,R_t_offdiag[0,4]], [0,R_t_offdiag[0,7]], color = 'orange', linewidth = 10)\n",
        "z_b, = ax.plot([0,R_t_offdiag[0,2]], [0,R_t_offdiag[0,5]], [0,R_t_offdiag[0,8]], color = 'blue', linewidth = 10)\n",
        "\n",
        "def drawframe(n): \n",
        "    x_b.set_data([0,R_t_offdiag[n,0]], [0,R_t_offdiag[n,1]])\n",
        "    x_b.set_3d_properties([0,R_t_offdiag[n,2]], 'z')\n",
        "    y_b.set_data([0,R_t_offdiag[n,3]], [0,R_t_offdiag[n,4]])\n",
        "    y_b.set_3d_properties([0,R_t_offdiag[n,5]], 'z')\n",
        "    z_b.set_data([0,R_t_offdiag[n,6]], [0,R_t_offdiag[n,7]])\n",
        "    z_b.set_3d_properties([0,R_t_offdiag[n,8]], 'z')\n",
        "    return (x_b, y_b, z_b)\n",
        "\n",
        "\n",
        "anim = animation.FuncAnimation(fig, drawframe, frames=len(t_offdiag), interval=20, blit=True)\n",
        "HTML(anim.to_html5_video())"
      ],
      "metadata": {
        "id": "M4km4nKKuVI5"
      },
      "execution_count": null,
      "outputs": []
    },
    {
      "cell_type": "markdown",
      "source": [
        "# Add in External Torque for a Defined I Matrix"
      ],
      "metadata": {
        "id": "3H-5WBVjuaYt"
      }
    },
    {
      "cell_type": "markdown",
      "source": [
        "Now let's add external torque to our system! And don't forget to change the I matrix if you like!"
      ],
      "metadata": {
        "id": "40MU9tLWufr3"
      }
    },
    {
      "cell_type": "code",
      "source": [
        "def run_dynamics_with_torque(phi, theta, psi, omega_phi, omega_theta, omega_psi):\n",
        "  \"\"\" input phi, theta, psi, omega_phi (roll velocity), omega_theta (pitch velocity), omega_psi (yaw velocity) in degrees\"\"\"\n",
        "  # define external torque\n",
        "  tau = np.array([[0],[0],[0.001]])\n",
        "\n",
        "  #I_off_diag = np.array([[I_xx, 0.5*I_xx, 0],[0.5*I_xx, I_yy, 0],[0, 0 ,I_zz]])\n",
        "  I = np.array([[I_xx, 0, 0],[0, I_yy, 0],[0, 0 ,I_zz]])\n",
        "\n",
        "  # define initial state\n",
        "  # euler angles\n",
        "  phi = phi * np.pi /180     # \"roll\" FEEL FREE TO CHANGE THIS VALUE\n",
        "  theta = theta * np.pi/180       # \"pitch\" FEEL FREE TO CHANGE THIS VALUE\n",
        "  psi = psi * np.pi/180      # \"yaw\" FEEL FREE TO CHANGE THIS VALUE\n",
        "  # rotation matrix \n",
        "  A_x = np.array([[1, 0, 0],\n",
        "                [0, np.cos(phi), -np.sin(phi)], \n",
        "                [0, np.sin(phi), np.cos(phi)]])\n",
        "  A_y = np.array([[np.cos(theta), 0, np.sin(theta)],\n",
        "                [0, 1, 0], \n",
        "                [-np.sin(theta), 0, np.cos(theta)]])\n",
        "  A_z = np.array([[np.cos(psi), -np.sin(psi), 0],\n",
        "                [np.sin(psi), np.cos(psi), 0], \n",
        "                [0, 0, 1]])\n",
        "  A = A_z @ A_y @ A_x\n",
        "  # euler axis angle\n",
        "  theta_a = np.arccos((A[0,0]+A[1,1]+A[2,2]-1)/2)\n",
        "  e_1 = (A[2,1]-A[1,2])/(2*np.sin(theta_a))\n",
        "  e_2 = (A[0,2]-A[2,0])/(2*np.sin(theta_a))\n",
        "  e_3 = (A[1,0]-A[0,1])/(2*np.sin(theta_a))\n",
        "  # quaternion\n",
        "  q_x0 = e_1*np.sin(theta_a/2)\n",
        "  q_y0 = e_2*np.sin(theta_a/2)\n",
        "  q_z0 = e_3*np.sin(theta_a/2)\n",
        "  q_w0 = np.cos(theta_a/2)\n",
        "  q_0 = np.array([q_x0, q_y0, q_z0, q_w0])\n",
        "\n",
        "  omega_x0 = omega_phi* np.pi/180 # roll velocity\n",
        "  omega_y0 = omega_theta * np.pi/180# pitch velocity\n",
        "  omega_z0 = omega_psi * np.pi/180# yaw velocity\n",
        "  omega_0 = np.array([omega_x0,omega_y0,omega_z0])\n",
        "\n",
        "  # initiate state with rotation matrix\n",
        "  r_0 = np.concatenate((A[0,:], A[1,:], A[2,:]))\n",
        "  s_0 = np.concatenate((r_0,omega_0), axis=0)\n",
        "\n",
        "  # time points\n",
        "  t = np.linspace(0, 100, 1001)\n",
        "\n",
        "  # integrate\n",
        "  y = odeint(R_model, s_0, t, args=(I,tau))\n",
        "  R_t_Tau = y[:,0:9]\n",
        "  w_t_Tau = y[:,9::]\n",
        "\n",
        "  return t, R_t_Tau, w_t_Tau"
      ],
      "metadata": {
        "id": "bhlPE6IIuVQ3"
      },
      "execution_count": null,
      "outputs": []
    },
    {
      "cell_type": "markdown",
      "source": [
        "Let's see what this looks like!"
      ],
      "metadata": {
        "id": "qHRHShYqumUh"
      }
    },
    {
      "cell_type": "code",
      "source": [
        "t, R_t_Tau, _ = run_dynamics_with_torque(phi_slider.value, theta_slider.value, psi_slider.value, omega_phi_slider.value, omega_theta_slider.value, omega_psi_slider.value)\n",
        "\n",
        "fig = plt.figure()\n",
        "ax = fig.add_subplot(projection='3d')\n",
        "fig.suptitle('External Torque Applied')\n",
        "ax.quiver(0, 0, 0, 1, 0, 0, length=1.5, linestyle = '--', normalize=True, color = '#BDBDBD') \n",
        "ax.text(1.5, 0, 0, r'x', color = 'k')\n",
        "ax.quiver(0, 0, 0, 0, 1, 0, length=1.5, linestyle = '--', normalize=True, color = '#BDBDBD') \n",
        "ax.text(0, 1.5, 0, r'y', color = 'k')\n",
        "ax.quiver(0, 0, 0, 0, 0, 1, length=1.5, linestyle = '--', normalize=True, color = '#BDBDBD') \n",
        "ax.text(0, 0, 1.5, r'z', color = 'k')\n",
        "ax.set(xlim=(-1.5, 1.5), \n",
        "          ylim=(-1.1,1.5), \n",
        "          zlim=(-1.5,1.5))\n",
        "ax.set_xlabel('x')\n",
        "ax.set_ylabel('y')\n",
        "ax.set_zlabel('z')\n",
        "\n",
        "x_b, = ax.plot([0,R_t_Tau[0,0]], [0,R_t_Tau[0,3]], [0,R_t_Tau[0,6]], color = 'red', linewidth = 10)\n",
        "y_b, = ax.plot([0,R_t_Tau[0,1]], [0,R_t_Tau[0,4]], [0,R_t_Tau[0,7]], color = 'orange', linewidth = 10)\n",
        "z_b, = ax.plot([0,R_t_Tau[0,2]], [0,R_t_Tau[0,5]], [0,R_t_Tau[0,8]], color = 'blue', linewidth = 10)\n",
        "\n",
        "# animation function. This is called sequentially\n",
        "def drawframe(n): \n",
        "    x_b.set_data([0,R_t_Tau[n,0]], [0,R_t_Tau[n,1]])\n",
        "    x_b.set_3d_properties([0,R_t_Tau[n,2]], 'z')\n",
        "    y_b.set_data([0,R_t_Tau[n,3]], [0,R_t_Tau[n,4]])\n",
        "    y_b.set_3d_properties([0,R_t[n,5]], 'z')\n",
        "    z_b.set_data([0,R_t_Tau[n,6]], [0,R_t_Tau[n,7]])\n",
        "    z_b.set_3d_properties([0,R_t_Tau[n,8]], 'z')\n",
        "    return (x_b, y_b, z_b)\n",
        "\n",
        "anim = animation.FuncAnimation(fig, drawframe, frames=len(t), interval=20, blit=True)\n",
        "\n",
        "HTML(anim.to_html5_video())"
      ],
      "metadata": {
        "id": "Lu0DHI6tunA-"
      },
      "execution_count": null,
      "outputs": []
    }
  ],
  "metadata": {
    "colab": {
      "provenance": [],
      "include_colab_link": true
    },
    "kernelspec": {
      "display_name": "Python 3",
      "language": "python",
      "name": "python3"
    },
    "language_info": {
      "codemirror_mode": {
        "name": "ipython",
        "version": 3
      },
      "file_extension": ".py",
      "mimetype": "text/x-python",
      "name": "python",
      "nbconvert_exporter": "python",
      "pygments_lexer": "ipython3",
      "version": "3.6.10"
    }
  },
  "nbformat": 4,
  "nbformat_minor": 0
}